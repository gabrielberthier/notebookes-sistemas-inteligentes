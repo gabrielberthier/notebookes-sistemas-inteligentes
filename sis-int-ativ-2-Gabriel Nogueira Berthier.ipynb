{
  "nbformat": 4,
  "nbformat_minor": 0,
  "metadata": {
    "colab": {
      "name": "Untitled",
      "provenance": [],
      "include_colab_link": true
    },
    "kernelspec": {
      "name": "python3",
      "display_name": "Python 3"
    },
    "language_info": {
      "name": "python"
    }
  },
  "cells": [
    {
      "cell_type": "markdown",
      "metadata": {
        "id": "view-in-github",
        "colab_type": "text"
      },
      "source": [
        "<a href=\"https://colab.research.google.com/github/gabrielberthier/notebookes-sistemas-inteligentes/blob/main/sis-int-ativ-2-Gabriel%20Nogueira%20Berthier.ipynb\" target=\"_parent\"><img src=\"https://colab.research.google.com/assets/colab-badge.svg\" alt=\"Open In Colab\"/></a>"
      ]
    },
    {
      "cell_type": "markdown",
      "metadata": {
        "id": "W6woswq4GVL-"
      },
      "source": [
        "**IFMA - Instituto Federal de Educação, Ciência e Tecnologia do Maranhão**\n",
        "\n",
        "Disciplina: Introdução aos Sistemas Inteligentes\n",
        "\n",
        "Professor: Josenildo Costa da Silva\n",
        "\n",
        "Aluno: Gabriel Nogueira Berthier da Silva (20172SI0122)"
      ]
    },
    {
      "cell_type": "markdown",
      "metadata": {
        "id": "5x1bSaMefZkD"
      },
      "source": [
        "Dataset Escolhido: \n",
        "**[Fetal Health Condition Dataset (Condição de Saúde Fetal)](https://www.kaggle.com/andrewmvd/fetal-health-classification)**\n",
        "\n",
        "<br>\n",
        "\n",
        "2.126 cardiotocogramas fetais (CTG) foram processados automaticamente e as respectivas características diagnósticas medidas. Os CTG também foram classificados por três obstetras especialistas e uma etiqueta de classificação de consenso atribuída a cada um deles. A classificação foi tanto em relação a um padrão morfológico (A, B, C. ...) e a um estado fetal (N, S, P). Portanto, o conjunto de dados pode ser usado para experimentos de 10 ou 3 classes.\n",
        "\n",
        "Neste exemplo, utilizo o dataset para classificar o estado fetal, N - Normal (1.0), S - Suspeito (2.0) e Patológico (3.0)."
      ]
    },
    {
      "cell_type": "markdown",
      "metadata": {
        "id": "DrPh-F5DGZim"
      },
      "source": [
        "# Atividade:"
      ]
    },
    {
      "cell_type": "code",
      "metadata": {
        "id": "yIMSVPFGFl-N"
      },
      "source": [
        ""
      ],
      "execution_count": 183,
      "outputs": []
    },
    {
      "cell_type": "markdown",
      "metadata": {
        "id": "pbgof1Q5GcYf"
      },
      "source": [
        "# Sobre o dataset:\n"
      ]
    },
    {
      "cell_type": "markdown",
      "metadata": {
        "id": "lq1njhIhGnCs"
      },
      "source": [
        "# Leitura e preparação dos dados:"
      ]
    },
    {
      "cell_type": "code",
      "metadata": {
        "id": "MVEFCuOxHHgt"
      },
      "source": [
        "import matplotlib.pyplot as plt\n",
        "import pandas as pd\n",
        "import numpy as np\n",
        "import seaborn as sns\n",
        "\n",
        "seed = 50"
      ],
      "execution_count": 184,
      "outputs": []
    },
    {
      "cell_type": "code",
      "metadata": {
        "id": "_-0V6E-eLJ9i"
      },
      "source": [
        "# preprocessing libraries\n",
        "from sklearn.preprocessing import StandardScaler\n",
        "from sklearn.preprocessing import LabelEncoder\n",
        "\n",
        "# machine learning libraries\n",
        "from sklearn.ensemble import RandomForestClassifier\n",
        "\n",
        "# postprocessing and checking-results libraries\n",
        "from sklearn.metrics import confusion_matrix, classification_report, plot_confusion_matrix\n",
        "from sklearn.model_selection import train_test_split"
      ],
      "execution_count": 185,
      "outputs": []
    },
    {
      "cell_type": "code",
      "metadata": {
        "id": "lmMuFkmxLPCU"
      },
      "source": [
        "from imblearn.over_sampling import RandomOverSampler"
      ],
      "execution_count": 186,
      "outputs": []
    },
    {
      "cell_type": "code",
      "metadata": {
        "id": "yj1z-bcXGFsP",
        "colab": {
          "base_uri": "https://localhost:8080/"
        },
        "outputId": "7a75ad47-f184-4e8f-fbd7-a7ab2634eb65"
      },
      "source": [
        "from google.colab import drive\n",
        "drive.mount('/content/drive')"
      ],
      "execution_count": 187,
      "outputs": [
        {
          "output_type": "stream",
          "name": "stdout",
          "text": [
            "Drive already mounted at /content/drive; to attempt to forcibly remount, call drive.mount(\"/content/drive\", force_remount=True).\n"
          ]
        }
      ]
    },
    {
      "cell_type": "code",
      "metadata": {
        "id": "1O4-jFSJHuQx"
      },
      "source": [
        "fetal_health = pd.read_csv(\"/content/sample_data/fetal_health.csv\")\n"
      ],
      "execution_count": 188,
      "outputs": []
    },
    {
      "cell_type": "code",
      "metadata": {
        "colab": {
          "base_uri": "https://localhost:8080/",
          "height": 241
        },
        "id": "kH3kBpnaIH4Y",
        "outputId": "fdb9ada8-77bb-4b00-84c3-3f3760b6946a"
      },
      "source": [
        "fetal_health.head()"
      ],
      "execution_count": 189,
      "outputs": [
        {
          "output_type": "execute_result",
          "data": {
            "text/html": [
              "<div>\n",
              "<style scoped>\n",
              "    .dataframe tbody tr th:only-of-type {\n",
              "        vertical-align: middle;\n",
              "    }\n",
              "\n",
              "    .dataframe tbody tr th {\n",
              "        vertical-align: top;\n",
              "    }\n",
              "\n",
              "    .dataframe thead th {\n",
              "        text-align: right;\n",
              "    }\n",
              "</style>\n",
              "<table border=\"1\" class=\"dataframe\">\n",
              "  <thead>\n",
              "    <tr style=\"text-align: right;\">\n",
              "      <th></th>\n",
              "      <th>baseline value</th>\n",
              "      <th>accelerations</th>\n",
              "      <th>fetal_movement</th>\n",
              "      <th>uterine_contractions</th>\n",
              "      <th>light_decelerations</th>\n",
              "      <th>severe_decelerations</th>\n",
              "      <th>prolongued_decelerations</th>\n",
              "      <th>abnormal_short_term_variability</th>\n",
              "      <th>mean_value_of_short_term_variability</th>\n",
              "      <th>percentage_of_time_with_abnormal_long_term_variability</th>\n",
              "      <th>mean_value_of_long_term_variability</th>\n",
              "      <th>histogram_width</th>\n",
              "      <th>histogram_min</th>\n",
              "      <th>histogram_max</th>\n",
              "      <th>histogram_number_of_peaks</th>\n",
              "      <th>histogram_number_of_zeroes</th>\n",
              "      <th>histogram_mode</th>\n",
              "      <th>histogram_mean</th>\n",
              "      <th>histogram_median</th>\n",
              "      <th>histogram_variance</th>\n",
              "      <th>histogram_tendency</th>\n",
              "      <th>fetal_health</th>\n",
              "    </tr>\n",
              "  </thead>\n",
              "  <tbody>\n",
              "    <tr>\n",
              "      <th>0</th>\n",
              "      <td>120.0</td>\n",
              "      <td>0.000</td>\n",
              "      <td>0.0</td>\n",
              "      <td>0.000</td>\n",
              "      <td>0.000</td>\n",
              "      <td>0.0</td>\n",
              "      <td>0.0</td>\n",
              "      <td>73.0</td>\n",
              "      <td>0.5</td>\n",
              "      <td>43.0</td>\n",
              "      <td>2.4</td>\n",
              "      <td>64.0</td>\n",
              "      <td>62.0</td>\n",
              "      <td>126.0</td>\n",
              "      <td>2.0</td>\n",
              "      <td>0.0</td>\n",
              "      <td>120.0</td>\n",
              "      <td>137.0</td>\n",
              "      <td>121.0</td>\n",
              "      <td>73.0</td>\n",
              "      <td>1.0</td>\n",
              "      <td>2.0</td>\n",
              "    </tr>\n",
              "    <tr>\n",
              "      <th>1</th>\n",
              "      <td>132.0</td>\n",
              "      <td>0.006</td>\n",
              "      <td>0.0</td>\n",
              "      <td>0.006</td>\n",
              "      <td>0.003</td>\n",
              "      <td>0.0</td>\n",
              "      <td>0.0</td>\n",
              "      <td>17.0</td>\n",
              "      <td>2.1</td>\n",
              "      <td>0.0</td>\n",
              "      <td>10.4</td>\n",
              "      <td>130.0</td>\n",
              "      <td>68.0</td>\n",
              "      <td>198.0</td>\n",
              "      <td>6.0</td>\n",
              "      <td>1.0</td>\n",
              "      <td>141.0</td>\n",
              "      <td>136.0</td>\n",
              "      <td>140.0</td>\n",
              "      <td>12.0</td>\n",
              "      <td>0.0</td>\n",
              "      <td>1.0</td>\n",
              "    </tr>\n",
              "    <tr>\n",
              "      <th>2</th>\n",
              "      <td>133.0</td>\n",
              "      <td>0.003</td>\n",
              "      <td>0.0</td>\n",
              "      <td>0.008</td>\n",
              "      <td>0.003</td>\n",
              "      <td>0.0</td>\n",
              "      <td>0.0</td>\n",
              "      <td>16.0</td>\n",
              "      <td>2.1</td>\n",
              "      <td>0.0</td>\n",
              "      <td>13.4</td>\n",
              "      <td>130.0</td>\n",
              "      <td>68.0</td>\n",
              "      <td>198.0</td>\n",
              "      <td>5.0</td>\n",
              "      <td>1.0</td>\n",
              "      <td>141.0</td>\n",
              "      <td>135.0</td>\n",
              "      <td>138.0</td>\n",
              "      <td>13.0</td>\n",
              "      <td>0.0</td>\n",
              "      <td>1.0</td>\n",
              "    </tr>\n",
              "    <tr>\n",
              "      <th>3</th>\n",
              "      <td>134.0</td>\n",
              "      <td>0.003</td>\n",
              "      <td>0.0</td>\n",
              "      <td>0.008</td>\n",
              "      <td>0.003</td>\n",
              "      <td>0.0</td>\n",
              "      <td>0.0</td>\n",
              "      <td>16.0</td>\n",
              "      <td>2.4</td>\n",
              "      <td>0.0</td>\n",
              "      <td>23.0</td>\n",
              "      <td>117.0</td>\n",
              "      <td>53.0</td>\n",
              "      <td>170.0</td>\n",
              "      <td>11.0</td>\n",
              "      <td>0.0</td>\n",
              "      <td>137.0</td>\n",
              "      <td>134.0</td>\n",
              "      <td>137.0</td>\n",
              "      <td>13.0</td>\n",
              "      <td>1.0</td>\n",
              "      <td>1.0</td>\n",
              "    </tr>\n",
              "    <tr>\n",
              "      <th>4</th>\n",
              "      <td>132.0</td>\n",
              "      <td>0.007</td>\n",
              "      <td>0.0</td>\n",
              "      <td>0.008</td>\n",
              "      <td>0.000</td>\n",
              "      <td>0.0</td>\n",
              "      <td>0.0</td>\n",
              "      <td>16.0</td>\n",
              "      <td>2.4</td>\n",
              "      <td>0.0</td>\n",
              "      <td>19.9</td>\n",
              "      <td>117.0</td>\n",
              "      <td>53.0</td>\n",
              "      <td>170.0</td>\n",
              "      <td>9.0</td>\n",
              "      <td>0.0</td>\n",
              "      <td>137.0</td>\n",
              "      <td>136.0</td>\n",
              "      <td>138.0</td>\n",
              "      <td>11.0</td>\n",
              "      <td>1.0</td>\n",
              "      <td>1.0</td>\n",
              "    </tr>\n",
              "  </tbody>\n",
              "</table>\n",
              "</div>"
            ],
            "text/plain": [
              "   baseline value  accelerations  ...  histogram_tendency  fetal_health\n",
              "0           120.0          0.000  ...                 1.0           2.0\n",
              "1           132.0          0.006  ...                 0.0           1.0\n",
              "2           133.0          0.003  ...                 0.0           1.0\n",
              "3           134.0          0.003  ...                 1.0           1.0\n",
              "4           132.0          0.007  ...                 1.0           1.0\n",
              "\n",
              "[5 rows x 22 columns]"
            ]
          },
          "metadata": {},
          "execution_count": 189
        }
      ]
    },
    {
      "cell_type": "code",
      "metadata": {
        "colab": {
          "base_uri": "https://localhost:8080/"
        },
        "id": "pA9GA__cIjia",
        "outputId": "e4e9e258-8a69-4a27-d1ce-e7e2f68064b1"
      },
      "source": [
        "fetal_health.shape "
      ],
      "execution_count": 190,
      "outputs": [
        {
          "output_type": "execute_result",
          "data": {
            "text/plain": [
              "(2126, 22)"
            ]
          },
          "metadata": {},
          "execution_count": 190
        }
      ]
    },
    {
      "cell_type": "code",
      "metadata": {
        "colab": {
          "base_uri": "https://localhost:8080/"
        },
        "id": "nbMUmUWvIxtp",
        "outputId": "21c019b3-180a-46aa-c64a-512efea3589f"
      },
      "source": [
        "fetal_health.isnull().sum()\n"
      ],
      "execution_count": 191,
      "outputs": [
        {
          "output_type": "execute_result",
          "data": {
            "text/plain": [
              "baseline value                                            0\n",
              "accelerations                                             0\n",
              "fetal_movement                                            0\n",
              "uterine_contractions                                      0\n",
              "light_decelerations                                       0\n",
              "severe_decelerations                                      0\n",
              "prolongued_decelerations                                  0\n",
              "abnormal_short_term_variability                           0\n",
              "mean_value_of_short_term_variability                      0\n",
              "percentage_of_time_with_abnormal_long_term_variability    0\n",
              "mean_value_of_long_term_variability                       0\n",
              "histogram_width                                           0\n",
              "histogram_min                                             0\n",
              "histogram_max                                             0\n",
              "histogram_number_of_peaks                                 0\n",
              "histogram_number_of_zeroes                                0\n",
              "histogram_mode                                            0\n",
              "histogram_mean                                            0\n",
              "histogram_median                                          0\n",
              "histogram_variance                                        0\n",
              "histogram_tendency                                        0\n",
              "fetal_health                                              0\n",
              "dtype: int64"
            ]
          },
          "metadata": {},
          "execution_count": 191
        }
      ]
    },
    {
      "cell_type": "code",
      "metadata": {
        "colab": {
          "base_uri": "https://localhost:8080/"
        },
        "id": "XvYEQ_ffJJqw",
        "outputId": "ff862b37-ae57-4478-9037-1e100ba70f09"
      },
      "source": [
        "fetal_health.dtypes\n"
      ],
      "execution_count": 192,
      "outputs": [
        {
          "output_type": "execute_result",
          "data": {
            "text/plain": [
              "baseline value                                            float64\n",
              "accelerations                                             float64\n",
              "fetal_movement                                            float64\n",
              "uterine_contractions                                      float64\n",
              "light_decelerations                                       float64\n",
              "severe_decelerations                                      float64\n",
              "prolongued_decelerations                                  float64\n",
              "abnormal_short_term_variability                           float64\n",
              "mean_value_of_short_term_variability                      float64\n",
              "percentage_of_time_with_abnormal_long_term_variability    float64\n",
              "mean_value_of_long_term_variability                       float64\n",
              "histogram_width                                           float64\n",
              "histogram_min                                             float64\n",
              "histogram_max                                             float64\n",
              "histogram_number_of_peaks                                 float64\n",
              "histogram_number_of_zeroes                                float64\n",
              "histogram_mode                                            float64\n",
              "histogram_mean                                            float64\n",
              "histogram_median                                          float64\n",
              "histogram_variance                                        float64\n",
              "histogram_tendency                                        float64\n",
              "fetal_health                                              float64\n",
              "dtype: object"
            ]
          },
          "metadata": {},
          "execution_count": 192
        }
      ]
    },
    {
      "cell_type": "code",
      "metadata": {
        "id": "5AYuQgEJK_q4"
      },
      "source": [
        "def plotConfusionMatrix(dtrue,dpred,classes,title = 'Confusion Matrix',\\\n",
        "                        width = 0.75,cmap = plt.cm.Blues):\n",
        "  \n",
        "    cm = confusion_matrix(dtrue,dpred)\n",
        "    cm = cm.astype('float') / cm.sum(axis = 1)[:,np.newaxis]\n",
        "\n",
        "    fig,ax = plt.subplots(figsize = (np.shape(classes)[0] * width,\\\n",
        "                                       np.shape(classes)[0] * width))\n",
        "    im = ax.imshow(cm,interpolation = 'nearest',cmap = cmap)\n",
        "\n",
        "    ax.set(xticks = np.arange(cm.shape[1]),\n",
        "           yticks = np.arange(cm.shape[0]),\n",
        "           xticklabels = classes,\n",
        "           yticklabels = classes,\n",
        "           title = title,\n",
        "           aspect = 'equal')\n",
        "    \n",
        "    ax.set_ylabel('True',labelpad = 20)\n",
        "    ax.set_xlabel('Predicted',labelpad = 20)\n",
        "\n",
        "    plt.setp(ax.get_xticklabels(),rotation = 90,ha = 'right',\n",
        "             va = 'center',rotation_mode = 'anchor')\n",
        "\n",
        "    fmt = '.2f'\n",
        "\n",
        "    thresh = cm.max() / 2.0\n",
        "\n",
        "    for i in range(cm.shape[0]):\n",
        "        for j in range(cm.shape[1]):\n",
        "            ax.text(j,i,format(cm[i,j],fmt),ha = 'center',va = 'center',\n",
        "                    color = 'white' if cm[i,j] > thresh else 'black')\n",
        "    plt.tight_layout()\n",
        "    plt.show()\n",
        "    "
      ],
      "execution_count": 193,
      "outputs": []
    },
    {
      "cell_type": "code",
      "metadata": {
        "id": "vAMDyo_OLA3v"
      },
      "source": [
        "# Student note (Gabriel Berthier):\n",
        "# This classification was used based on a notebook available in \n",
        "# https://www.kaggle.com/scratchpad/notebookea9989e29c/edit\n",
        "# Which used random forest to provide classification"
      ],
      "execution_count": 194,
      "outputs": []
    },
    {
      "cell_type": "code",
      "metadata": {
        "colab": {
          "base_uri": "https://localhost:8080/",
          "height": 388
        },
        "id": "tXfDI4F6JZ33",
        "outputId": "9cb0e2c0-8721-4e2c-db5e-3118d2f4307e"
      },
      "source": [
        "y = LabelEncoder().fit_transform(fetal_health['fetal_health'])\n",
        "X = fetal_health.drop(columns = ['fetal_health'],axis = 1)\n",
        "count = np.zeros(3)\n",
        "for i in range(3):\n",
        "    count[i] = np.where(y == i)[0].size\n",
        "    \n",
        "plt.subplots(figsize = (6.0,6.0))\n",
        "plt.bar(np.arange(3),count,color = 'orange',edgecolor = 'black')\n",
        "plt.xticks(np.arange(3),('N','S','P'))\n",
        "plt.xlabel('Fetal State')\n",
        "plt.ylabel('Number of Instances')\n",
        "plt.show()"
      ],
      "execution_count": 195,
      "outputs": [
        {
          "output_type": "display_data",
          "data": {
            "image/png": "[encoded data removed]",
            "text/plain": [
              "<Figure size 432x432 with 1 Axes>"
            ]
          },
          "metadata": {
            "needs_background": "light"
          }
        }
      ]
    },
    {
      "cell_type": "code",
      "metadata": {
        "id": "ZiVHEfebLVgl"
      },
      "source": [
        "new_fetal_health = fetal_health\n",
        "x = new_fetal_health.iloc[:,new_fetal_health.columns != \"fetal_health\"]"
      ],
      "execution_count": 196,
      "outputs": []
    },
    {
      "cell_type": "code",
      "metadata": {
        "id": "5v3IrkldMpBu"
      },
      "source": [
        "y = new_fetal_health.iloc[:,new_fetal_health.columns == \"fetal_health\"]"
      ],
      "execution_count": 197,
      "outputs": []
    },
    {
      "cell_type": "code",
      "metadata": {
        "id": "8uzSg-8xNJgT"
      },
      "source": [
        "x = np.array(x)\n",
        "y = np.array(y)\n"
      ],
      "execution_count": 198,
      "outputs": []
    },
    {
      "cell_type": "code",
      "metadata": {
        "id": "K5HEVobRNO9J"
      },
      "source": [
        ""
      ],
      "execution_count": 198,
      "outputs": []
    },
    {
      "cell_type": "markdown",
      "metadata": {
        "id": "yCu6ZfuCOTQg"
      },
      "source": [
        "## Modelagem\n",
        "\n",
        "\n"
      ]
    },
    {
      "cell_type": "code",
      "metadata": {
        "id": "zH83cTTWQhUX"
      },
      "source": [
        "y = y.reshape((y.shape[0], ))\n",
        "y.shape\n",
        "\n",
        "x_train, x_test, y_train, y_test = train_test_split(x, y, test_size=0.30, random_state=seed)"
      ],
      "execution_count": 199,
      "outputs": []
    },
    {
      "cell_type": "markdown",
      "metadata": {
        "id": "p1FD4L91OeT6"
      },
      "source": [
        "### Logistic Regression"
      ]
    },
    {
      "cell_type": "code",
      "metadata": {
        "colab": {
          "base_uri": "https://localhost:8080/"
        },
        "id": "puDglUMnPVpa",
        "outputId": "f61bb3ea-4feb-4e84-9a1d-47f375201f28"
      },
      "source": [
        "from sklearn.linear_model import LogisticRegression\n",
        "clf = LogisticRegression(random_state=seed).fit(x_train, y_train)"
      ],
      "execution_count": 200,
      "outputs": [
        {
          "output_type": "stream",
          "name": "stderr",
          "text": [
            "/usr/local/lib/python3.7/dist-packages/sklearn/linear_model/_logistic.py:940: ConvergenceWarning: lbfgs failed to converge (status=1):\n",
            "STOP: TOTAL NO. of ITERATIONS REACHED LIMIT.\n",
            "\n",
            "Increase the number of iterations (max_iter) or scale the data as shown in:\n",
            "    https://scikit-learn.org/stable/modules/preprocessing.html\n",
            "Please also refer to the documentation for alternative solver options:\n",
            "    https://scikit-learn.org/stable/modules/linear_model.html#logistic-regression\n",
            "  extra_warning_msg=_LOGISTIC_SOLVER_CONVERGENCE_MSG)\n"
          ]
        }
      ]
    },
    {
      "cell_type": "code",
      "metadata": {
        "id": "_XDQ-fifRnGi"
      },
      "source": [
        "prediction_classes = clf.predict(x_test)"
      ],
      "execution_count": 201,
      "outputs": []
    },
    {
      "cell_type": "code",
      "metadata": {
        "colab": {
          "base_uri": "https://localhost:8080/"
        },
        "id": "4YB6WnfSRKKh",
        "outputId": "932c4917-0e7d-49bb-e79b-7e6ea1d64142"
      },
      "source": [
        "from sklearn.metrics import classification_report\n",
        "print(classification_report(y_test, prediction_classes))"
      ],
      "execution_count": 202,
      "outputs": [
        {
          "output_type": "stream",
          "name": "stdout",
          "text": [
            "              precision    recall  f1-score   support\n",
            "\n",
            "         1.0       0.89      0.96      0.93       492\n",
            "         2.0       0.64      0.39      0.49        87\n",
            "         3.0       0.82      0.76      0.79        59\n",
            "\n",
            "    accuracy                           0.87       638\n",
            "   macro avg       0.78      0.70      0.73       638\n",
            "weighted avg       0.85      0.87      0.85       638\n",
            "\n"
          ]
        }
      ]
    },
    {
      "cell_type": "code",
      "metadata": {
        "colab": {
          "base_uri": "https://localhost:8080/",
          "height": 279
        },
        "id": "3wiItU8vSETl",
        "outputId": "d08e9933-3e03-4d96-9314-f9b5a00c1b84"
      },
      "source": [
        "plot_confusion_matrix(clf, x_test, y_test, cmap=\"Reds\")  \n",
        "plt.show()"
      ],
      "execution_count": 203,
      "outputs": [
        {
          "output_type": "display_data",
          "data": {
            "image/png": "[encoded data removed]",
            "text/plain": [
              "<Figure size 432x288 with 2 Axes>"
            ]
          },
          "metadata": {
            "needs_background": "light"
          }
        }
      ]
    },
    {
      "cell_type": "markdown",
      "metadata": {
        "id": "Mfn6yYI7OlVg"
      },
      "source": [
        "### Naive Bayes"
      ]
    },
    {
      "cell_type": "code",
      "metadata": {
        "colab": {
          "base_uri": "https://localhost:8080/"
        },
        "id": "vk4YzfKmR-WN",
        "outputId": "d2bcbbbc-ec7f-4745-c2ee-38daa98e81c6"
      },
      "source": [
        "from sklearn.naive_bayes import GaussianNB as GNB\n",
        "gnb = GNB()\n",
        "predicted_classes = gnb.fit(x_train, y_train).predict(x_test)\n",
        "print(classification_report(y_test, predicted_classes))"
      ],
      "execution_count": 204,
      "outputs": [
        {
          "output_type": "stream",
          "name": "stdout",
          "text": [
            "              precision    recall  f1-score   support\n",
            "\n",
            "         1.0       0.97      0.83      0.89       492\n",
            "         2.0       0.49      0.83      0.62        87\n",
            "         3.0       0.61      0.73      0.66        59\n",
            "\n",
            "    accuracy                           0.82       638\n",
            "   macro avg       0.69      0.80      0.72       638\n",
            "weighted avg       0.87      0.82      0.84       638\n",
            "\n"
          ]
        }
      ]
    },
    {
      "cell_type": "code",
      "metadata": {
        "colab": {
          "base_uri": "https://localhost:8080/",
          "height": 279
        },
        "id": "a9i71fyOTFBt",
        "outputId": "f98908e4-1ce2-4d8b-cf47-f410dede8ec1"
      },
      "source": [
        "plot_confusion_matrix(gnb, x_test, y_test, cmap=\"Reds\")  \n",
        "plt.show()"
      ],
      "execution_count": 205,
      "outputs": [
        {
          "output_type": "display_data",
          "data": {
            "image/png": "[encoded data removed]",
            "text/plain": [
              "<Figure size 432x288 with 2 Axes>"
            ]
          },
          "metadata": {
            "needs_background": "light"
          }
        }
      ]
    },
    {
      "cell_type": "markdown",
      "metadata": {
        "id": "0WyOs63vOp6l"
      },
      "source": [
        "### Random Forrest"
      ]
    },
    {
      "cell_type": "code",
      "metadata": {
        "colab": {
          "base_uri": "https://localhost:8080/"
        },
        "id": "jxnfM7fnTSpY",
        "outputId": "b2790a55-e5d1-4a0d-968f-8c094412e4a5"
      },
      "source": [
        "from sklearn.ensemble import RandomForestClassifier\n",
        "random_forrest_classifier = RandomForestClassifier()\n",
        "classes = random_forrest_classifier.fit(x_train, y_train).predict(x_test)\n",
        "print(classification_report(y_test, classes))"
      ],
      "execution_count": 206,
      "outputs": [
        {
          "output_type": "stream",
          "name": "stdout",
          "text": [
            "              precision    recall  f1-score   support\n",
            "\n",
            "         1.0       0.95      0.97      0.96       492\n",
            "         2.0       0.86      0.74      0.80        87\n",
            "         3.0       0.92      0.97      0.94        59\n",
            "\n",
            "    accuracy                           0.94       638\n",
            "   macro avg       0.91      0.89      0.90       638\n",
            "weighted avg       0.94      0.94      0.94       638\n",
            "\n"
          ]
        }
      ]
    },
    {
      "cell_type": "code",
      "metadata": {
        "colab": {
          "base_uri": "https://localhost:8080/",
          "height": 279
        },
        "id": "zQWpDWP3Uiwz",
        "outputId": "280848dc-1242-406c-fc5e-da5dbc608e8a"
      },
      "source": [
        "plot_confusion_matrix(random_forrest_classifier, x_test, y_test, cmap=\"PuBu\")  \n",
        "plt.show()"
      ],
      "execution_count": 207,
      "outputs": [
        {
          "output_type": "display_data",
          "data": {
            "image/png": "[encoded data removed]",
            "text/plain": [
              "<Figure size 432x288 with 2 Axes>"
            ]
          },
          "metadata": {
            "needs_background": "light"
          }
        }
      ]
    },
    {
      "cell_type": "code",
      "metadata": {
        "colab": {
          "base_uri": "https://localhost:8080/"
        },
        "id": "qVNfjIvrX3xv",
        "outputId": "08bc8c45-c55f-4852-a741-f0a17b13d7a1"
      },
      "source": [
        "from sklearn.metrics import accuracy_score\n",
        "accuracy_score(y_test, classes)"
      ],
      "execution_count": 208,
      "outputs": [
        {
          "output_type": "execute_result",
          "data": {
            "text/plain": [
              "0.9388714733542319"
            ]
          },
          "metadata": {},
          "execution_count": 208
        }
      ]
    },
    {
      "cell_type": "markdown",
      "metadata": {
        "id": "b8pOiqo0OvsT"
      },
      "source": [
        "### SVC (Support Vector Classification)"
      ]
    },
    {
      "cell_type": "code",
      "metadata": {
        "colab": {
          "base_uri": "https://localhost:8080/"
        },
        "id": "jY4eTSXtPGnY",
        "outputId": "e481ce4b-1162-4b95-d998-a3f58d9fafaf"
      },
      "source": [
        "from sklearn.svm import SVC\n",
        "svc = SVC()\n",
        "classes = svc.fit(x_train, y_train).predict(x_test)\n",
        "print(classification_report(y_test, classes))"
      ],
      "execution_count": 209,
      "outputs": [
        {
          "output_type": "stream",
          "name": "stdout",
          "text": [
            "              precision    recall  f1-score   support\n",
            "\n",
            "         1.0       0.88      0.98      0.93       492\n",
            "         2.0       0.63      0.43      0.51        87\n",
            "         3.0       0.91      0.51      0.65        59\n",
            "\n",
            "    accuracy                           0.86       638\n",
            "   macro avg       0.81      0.64      0.70       638\n",
            "weighted avg       0.85      0.86      0.84       638\n",
            "\n"
          ]
        }
      ]
    },
    {
      "cell_type": "code",
      "metadata": {
        "colab": {
          "base_uri": "https://localhost:8080/",
          "height": 279
        },
        "id": "k7MW6D-hTm3p",
        "outputId": "4bc3d1d8-9efb-40df-bc33-7a946006d327"
      },
      "source": [
        "plot_confusion_matrix(svc, x_test, y_test, cmap=\"gist_earth_r\")  \n",
        "plt.show()"
      ],
      "execution_count": 210,
      "outputs": [
        {
          "output_type": "display_data",
          "data": {
            "image/png": "[encoded data removed]",
            "text/plain": [
              "<Figure size 432x288 with 2 Axes>"
            ]
          },
          "metadata": {
            "needs_background": "light"
          }
        }
      ]
    },
    {
      "cell_type": "markdown",
      "metadata": {
        "id": "AaOktwvKVe9t"
      },
      "source": [
        "# Conclusão\n",
        "\n",
        "Por vezes, há momentos em que o Logistic Regression tende a ser um classificador a ser evitado, entretanto na presença de mais de uma variável explicativa pode obter melhor acurácia para múltiplas classes que outros algoritmos (como o SVC e o Naive Baynes). Mediante a comparação de acurácia entre os quatro classificadores provisionados - Naive Bayne, Logistic Regression, Random Forrest e SVC -, o algoritmo que proporcionou melhor resultado de acurácia, assim como melhor diagonal principal, foi o Random Forrest, que obteve acurácia de quase 0.94 e se destacou bastante dos demais, tidos como algoritmos \"mais simples\". \n",
        "<br>\n"
      ]
    },
    {
      "cell_type": "markdown",
      "metadata": {
        "id": "8i0qbOZrZlk9"
      },
      "source": [
        "# Ajustes de hyperparâmetros dos algoritmos"
      ]
    },
    {
      "cell_type": "markdown",
      "metadata": {
        "id": "FtNCtp_QaSjP"
      },
      "source": [
        "### Antes e depois"
      ]
    },
    {
      "cell_type": "code",
      "metadata": {
        "colab": {
          "base_uri": "https://localhost:8080/"
        },
        "id": "I-18v22zZznI",
        "outputId": "219f03fe-e93f-4f9a-9b7d-dde033b6e969"
      },
      "source": [
        "# Antes \n",
        "random_forrest_classifier = RandomForestClassifier()\n",
        "classes = random_forrest_classifier.fit(x_train, y_train).predict(x_test)\n",
        "print(classification_report(y_test, classes))\n"
      ],
      "execution_count": 211,
      "outputs": [
        {
          "output_type": "stream",
          "name": "stdout",
          "text": [
            "              precision    recall  f1-score   support\n",
            "\n",
            "         1.0       0.95      0.97      0.96       492\n",
            "         2.0       0.85      0.71      0.77        87\n",
            "         3.0       0.90      0.97      0.93        59\n",
            "\n",
            "    accuracy                           0.93       638\n",
            "   macro avg       0.90      0.88      0.89       638\n",
            "weighted avg       0.93      0.93      0.93       638\n",
            "\n"
          ]
        }
      ]
    },
    {
      "cell_type": "code",
      "metadata": {
        "colab": {
          "base_uri": "https://localhost:8080/"
        },
        "id": "Wj5XXMrKaaGm",
        "outputId": "e88ec32d-f2ef-410d-c0c8-4cc80ec08846"
      },
      "source": [
        "# Depois\n",
        "\n",
        "random_forrest_classifier = RandomForestClassifier( criterion=\"entropy\", class_weight=\"balanced\" )\n",
        "classes = random_forrest_classifier.fit(x_train, y_train).predict(x_test)\n",
        "print(classification_report(y_test, classes))"
      ],
      "execution_count": 257,
      "outputs": [
        {
          "output_type": "stream",
          "name": "stdout",
          "text": [
            "              precision    recall  f1-score   support\n",
            "\n",
            "         1.0       0.95      0.98      0.96       492\n",
            "         2.0       0.85      0.76      0.80        87\n",
            "         3.0       0.98      0.95      0.97        59\n",
            "\n",
            "    accuracy                           0.94       638\n",
            "   macro avg       0.93      0.89      0.91       638\n",
            "weighted avg       0.94      0.94      0.94       638\n",
            "\n"
          ]
        }
      ]
    },
    {
      "cell_type": "markdown",
      "metadata": {
        "id": "Y1NqAIX2eI-k"
      },
      "source": [
        "Utilizando o conceito de critério por entropia e o peso das classes como balanceadas, foi possível aumentar a precisão da classe 3.0 (que descreve casos de saúde patológicos) tal qual o f1-score. Desta forma, tanto classes normais (1.0) quanto classes patológicas (3.0) são bem identificadas, havendo menor espaço para classificação somente para casos suspeitos. "
      ]
    }
  ]
}